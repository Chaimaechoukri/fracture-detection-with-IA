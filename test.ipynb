{
 "cells": [
  {
   "cell_type": "markdown",
   "metadata": {},
   "source": [
    "### 1. Importation des Bibliothèques"
   ]
  },
  {
   "cell_type": "code",
   "execution_count": 1,
   "metadata": {},
   "outputs": [],
   "source": [
    "\n",
    "import tensorflow as tf\n",
    "import numpy as np\n",
    "import pandas as pd\n",
    "from tensorflow.keras.preprocessing.image import load_img, img_to_array\n",
    "import os"
   ]
  },
  {
   "cell_type": "markdown",
   "metadata": {},
   "source": [
    "### 2. Définition des Fonctions Utilitaires"
   ]
  },
  {
   "cell_type": "code",
   "execution_count": 2,
   "metadata": {},
   "outputs": [],
   "source": [
    "def load_and_preprocess_image(image_path, img_size=(224, 224)):\n",
    "    \"\"\"Charger et prétraiter une image\"\"\"\n",
    "    img = load_img(image_path, target_size=img_size)\n",
    "    img_array = img_to_array(img)\n",
    "    img_array = img_array / 255.0  # Normalisation\n",
    "    return img_array\n",
    "\n",
    "def predict_image(model, image_path, class_names):\n",
    "    \"\"\"Prédire les classes pour une image\"\"\"\n",
    "    # Prétraitement de l'image\n",
    "    img_array = load_and_preprocess_image(image_path)\n",
    "    # Ajout de la dimension batch\n",
    "    img_array = np.expand_dims(img_array, axis=0)\n",
    "    \n",
    "    # Obtention des prédictions\n",
    "    predictions = model.predict(img_array)\n",
    "    # Création d'un dictionnaire des prédictions par classe\n",
    "    results = {}\n",
    "    for class_name, pred_value in zip(class_names, predictions[0]):\n",
    "        results[class_name] = float(pred_value)\n",
    "    \n",
    "    return results\n"
   ]
  },
  {
   "cell_type": "markdown",
   "metadata": {},
   "source": [
    "### 3. Chargement du Modèle et Préparation des Données"
   ]
  },
  {
   "cell_type": "code",
   "execution_count": 3,
   "metadata": {},
   "outputs": [
    {
     "name": "stdout",
     "output_type": "stream",
     "text": [
      "Chargement du modèle...\n"
     ]
    },
    {
     "name": "stderr",
     "output_type": "stream",
     "text": [
      "WARNING:absl:Compiled the loaded model, but the compiled metrics have yet to be built. `model.compile_metrics` will be empty until you train or evaluate the model.\n"
     ]
    }
   ],
   "source": [
    "# Chargement du modèle entraîné\n",
    "print(\"Chargement du modèle...\")\n",
    "model = tf.keras.models.load_model('image_classifier_model.h5')\n",
    "\n",
    "# Chargement des noms de classes depuis le CSV de test\n",
    "test_csv_path = os.path.join('data/test', '_classes.csv')\n",
    "df = pd.read_csv(test_csv_path)\n",
    "class_names = df.columns[1:].tolist()  # Ignorer la colonne filename\n",
    "\n",
    "# Répertoire de test\n",
    "test_dir = 'data/test'\n",
    "\n",
    "# Liste des images de test\n",
    "test_images = [f for f in os.listdir(test_dir) if f.endswith(('.jpg', '.jpeg', '.png'))]"
   ]
  },
  {
   "cell_type": "markdown",
   "metadata": {},
   "source": [
    "### 4. Test du Modèle sur les Images"
   ]
  },
  {
   "cell_type": "code",
   "execution_count": 4,
   "metadata": {},
   "outputs": [
    {
     "name": "stdout",
     "output_type": "stream",
     "text": [
      "\n",
      "Début des prédictions...\n",
      "--------------------------------------------------\n",
      "\n",
      "Traitement de l'image : -view-with-finger-splint-for-diagnostic-fracture-and-gouty-arthritis-2C3N97K_jpg.rf.434bf4304a4c4812c87ee2da2ce94a5a.jpg\n",
      "\u001b[1m1/1\u001b[0m \u001b[32m━━━━━━━━━━━━━━━━━━━━\u001b[0m\u001b[37m\u001b[0m \u001b[1m1s\u001b[0m 758ms/step\n",
      "\n",
      "Prédictions :\n",
      "--------------------\n",
      " fracture: 73.24%\n",
      "\n",
      "Vérité terrain :\n",
      "--------------------\n",
      " Oblique: 1\n",
      " fracture: 1\n",
      "\n",
      "==================================================\n",
      "\n",
      "Traitement de l'image : 000007_jpg.rf.38c4ca9d9c47b8a62b1c268e7855edcf.jpg\n",
      "\u001b[1m1/1\u001b[0m \u001b[32m━━━━━━━━━━━━━━━━━━━━\u001b[0m\u001b[37m\u001b[0m \u001b[1m0s\u001b[0m 363ms/step\n",
      "\n",
      "Prédictions :\n",
      "--------------------\n",
      " fracture: 72.37%\n",
      "\n",
      "Vérité terrain :\n",
      "--------------------\n",
      " Longitudinal: 1\n",
      " fracture: 1\n",
      "\n",
      "==================================================\n",
      "\n",
      "Traitement de l'image : 000008_jpg.rf.7a3ad1984da5b8d6ceefff9546288b84.jpg\n",
      "\u001b[1m1/1\u001b[0m \u001b[32m━━━━━━━━━━━━━━━━━━━━\u001b[0m\u001b[37m\u001b[0m \u001b[1m0s\u001b[0m 133ms/step\n",
      "\n",
      "Prédictions :\n",
      "--------------------\n",
      " fracture: 73.93%\n",
      "\n",
      "Vérité terrain :\n",
      "--------------------\n",
      " Longitudinal: 1\n",
      " fracture: 1\n",
      "\n",
      "==================================================\n",
      "\n",
      "Traitement de l'image : 1-s2-0-S2210261220300948-gr1_jpg.rf.00456240a0511e51f920671a252ea9ba.jpg\n",
      "\u001b[1m1/1\u001b[0m \u001b[32m━━━━━━━━━━━━━━━━━━━━\u001b[0m\u001b[37m\u001b[0m \u001b[1m0s\u001b[0m 124ms/step\n",
      "\n",
      "Prédictions :\n",
      "--------------------\n",
      " fracture: 71.98%\n",
      "\n",
      "Vérité terrain :\n",
      "--------------------\n",
      " Intra-articular: 1\n",
      " fracture: 1\n",
      "\n",
      "==================================================\n",
      "\n",
      "Traitement de l'image : 1-s2-0-S235204771630003X-gr2_jpg.rf.f30f9674c764d1dc671ef45cdef54379.jpg\n",
      "\u001b[1m1/1\u001b[0m \u001b[32m━━━━━━━━━━━━━━━━━━━━\u001b[0m\u001b[37m\u001b[0m \u001b[1m0s\u001b[0m 173ms/step\n",
      "\n",
      "Prédictions :\n",
      "--------------------\n",
      " fracture: 75.83%\n",
      "\n",
      "Vérité terrain :\n",
      "--------------------\n",
      " Longitudinal: 1\n",
      " fracture: 1\n",
      "\n",
      "==================================================\n",
      "\n",
      "Test terminé avec succès!\n"
     ]
    }
   ],
   "source": [
    "print(\"\\nDébut des prédictions...\")\n",
    "print(\"-\" * 50)\n",
    "\n",
    "# Traitement de chaque image de test\n",
    "for image_name in test_images[:5]:  # Test des 5 premières images\n",
    "    image_path = os.path.join(test_dir, image_name)\n",
    "    print(f\"\\nTraitement de l'image : {image_name}\")\n",
    "    \n",
    "    # Obtention des prédictions\n",
    "    predictions = predict_image(model, image_path, class_names)\n",
    "    \n",
    "    # Affichage des résultats\n",
    "    print(\"\\nPrédictions :\")\n",
    "    print(\"-\" * 20)\n",
    "    for class_name, probability in predictions.items():\n",
    "        if probability > 0.5:  # Afficher uniquement les classes avec une probabilité > 50%\n",
    "            print(f\"{class_name}: {probability:.2%}\")\n",
    "    \n",
    "    # Obtention des vraies étiquettes depuis le CSV\n",
    "    true_labels = df[df['filename'] == image_name][class_names].iloc[0]\n",
    "    \n",
    "    print(\"\\nVérité terrain :\")\n",
    "    print(\"-\" * 20)\n",
    "    for class_name, value in true_labels.items():\n",
    "        if value > 0:\n",
    "            print(f\"{class_name}: {value}\")\n",
    "    \n",
    "    print(\"\\n\" + \"=\"*50)\n",
    "\n",
    "print(\"\\nTest terminé avec succès!\")"
   ]
  }
 ],
 "metadata": {
  "kernelspec": {
   "display_name": "venv",
   "language": "python",
   "name": "python3"
  },
  "language_info": {
   "codemirror_mode": {
    "name": "ipython",
    "version": 3
   },
   "file_extension": ".py",
   "mimetype": "text/x-python",
   "name": "python",
   "nbconvert_exporter": "python",
   "pygments_lexer": "ipython3",
   "version": "3.9.13"
  }
 },
 "nbformat": 4,
 "nbformat_minor": 2
}
